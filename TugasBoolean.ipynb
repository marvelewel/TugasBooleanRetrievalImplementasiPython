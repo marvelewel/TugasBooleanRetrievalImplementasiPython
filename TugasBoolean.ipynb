{
 "cells": [
  {
   "cell_type": "markdown",
   "metadata": {},
   "source": [
    "Marvel Jeremia Putra Tjahyadi\n",
    "187221014"
   ]
  },
  {
   "cell_type": "code",
   "execution_count": 2,
   "metadata": {},
   "outputs": [
    {
     "name": "stdout",
     "output_type": "stream",
     "text": [
      "Hasil untuk query 'Search AND Engine': ['D10']\n",
      "Hasil untuk query 'Information OR Retrieval': ['D2', 'D5', 'D7', 'D8']\n",
      "Hasil untuk query 'Machine NOT Learning': []\n"
     ]
    }
   ],
   "source": [
    "import string\n",
    "\n",
    "# 1. Mendefinisikan dokumen\n",
    "documents = {\n",
    "    \"D1\": \"Machine learning improves search engines.\",\n",
    "    \"D2\": \"Information retrieval techniques are evolving.\",\n",
    "    \"D3\": \"Search engines use advanced algorithms.\",\n",
    "    \"D4\": \"Deep learning and neural networks are popular.\",\n",
    "    \"D5\": \"Boolean retrieval uses logical operators.\",\n",
    "    \"D6\": \"Query processing is essential in search engines.\",\n",
    "    \"D7\": \"Text mining and NLP are related to information retrieval.\",\n",
    "    \"D8\": \"Search algorithms improve information discovery.\",\n",
    "    \"D9\": \"Data science leverages machine learning.\",\n",
    "    \"D10\": \"Ranking methods optimize search engine results.\"\n",
    "}\n",
    "\n",
    "# 2. Preprocessing dokumen\n",
    "def preprocess(text):\n",
    "    text = text.lower()\n",
    "    translator = str.maketrans('', '', string.punctuation)\n",
    "    text = text.translate(translator)\n",
    "    tokens = text.split()\n",
    "    return tokens\n",
    "\n",
    "doc_tokens = {doc_id: preprocess(text) for doc_id, text in documents.items()}\n",
    "\n",
    "# 3. Fungsi pencarian boolean\n",
    "def boolean_query(query):\n",
    "    parts = query.lower().split()\n",
    "    if len(parts) != 3:\n",
    "        print(\"Format query tidak sesuai. Harus: 'term1 OPERATOR term2'\")\n",
    "        return []\n",
    "    term1, operator, term2 = parts[0], parts[1], parts[2]\n",
    "    \n",
    "    result = []\n",
    "    if operator == \"and\":\n",
    "        for doc_id, tokens in doc_tokens.items():\n",
    "            if term1 in tokens and term2 in tokens:\n",
    "                result.append(doc_id)\n",
    "    elif operator == \"or\":\n",
    "        for doc_id, tokens in doc_tokens.items():\n",
    "            if term1 in tokens or term2 in tokens:\n",
    "                result.append(doc_id)\n",
    "    elif operator == \"not\":\n",
    "        for doc_id, tokens in doc_tokens.items():\n",
    "            if term1 in tokens and term2 not in tokens:\n",
    "                result.append(doc_id)\n",
    "    else:\n",
    "        print(\"Operator tidak dikenali. Gunakan AND, OR, atau NOT.\")\n",
    "    return result\n",
    "\n",
    "# 4. Evaluasi query\n",
    "queries = [\n",
    "    \"Search AND Engine\",\n",
    "    \"Information OR Retrieval\",\n",
    "    \"Machine NOT Learning\"\n",
    "]\n",
    "\n",
    "for q in queries:\n",
    "    result_docs = boolean_query(q)\n",
    "    print(f\"Hasil untuk query '{q}': {result_docs}\")\n"
   ]
  }
 ],
 "metadata": {
  "kernelspec": {
   "display_name": "Python 3",
   "language": "python",
   "name": "python3"
  },
  "language_info": {
   "codemirror_mode": {
    "name": "ipython",
    "version": 3
   },
   "file_extension": ".py",
   "mimetype": "text/x-python",
   "name": "python",
   "nbconvert_exporter": "python",
   "pygments_lexer": "ipython3",
   "version": "3.11.8"
  }
 },
 "nbformat": 4,
 "nbformat_minor": 2
}
